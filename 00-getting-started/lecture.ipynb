{
 "cells": [
  {
   "cell_type": "markdown",
   "metadata": {
    "slideshow": {
     "slide_type": "slide"
    }
   },
   "source": [
    "# Python 的 50+ 練習：資料科學學習手冊\n",
    "\n",
    "> 起步走\n",
    "\n",
    "[數聚點](https://www.datainpoint.com) | 郭耀仁 <https://linktr.ee/yaojenkuo>"
   ]
  },
  {
   "cell_type": "code",
   "execution_count": 1,
   "metadata": {
    "slideshow": {
     "slide_type": "subslide"
    }
   },
   "outputs": [],
   "source": [
    "import numpy as np\n",
    "import matplotlib.pyplot as plt\n",
    "import pandas as pd"
   ]
  },
  {
   "cell_type": "markdown",
   "metadata": {
    "slideshow": {
     "slide_type": "slide"
    }
   },
   "source": [
    "## 關於視覺化"
   ]
  },
  {
   "cell_type": "markdown",
   "metadata": {
    "slideshow": {
     "slide_type": "subslide"
    }
   },
   "source": [
    "## 什麼是視覺化\n",
    "\n",
    "視覺化是致力於將抽象性概念具體化的學科，透過圖形中的大小、顏色或形狀等元素把原始資料、函數或方程式等所蘊含的特徵表達給瀏覽的人，進而將抽象的資訊轉換為溝通對象能快速掌握理解的精簡內容。"
   ]
  },
  {
   "cell_type": "markdown",
   "metadata": {
    "slideshow": {
     "slide_type": "subslide"
    }
   },
   "source": [
    ">The simple graph has brought more information to the data analyst’s mind than any other device.\n",
    ">\n",
    ">[John Tukey](https://en.wikipedia.org/wiki/John_Tukey)"
   ]
  },
  {
   "cell_type": "markdown",
   "metadata": {
    "slideshow": {
     "slide_type": "subslide"
    }
   },
   "source": [
    "## 資料視覺化將資料值映射為 \"Aesthetics\"\n",
    "\n",
    "常見的 \"Aesthetics\" 有\n",
    "\n",
    "- 位置。\n",
    "- 大小。\n",
    "- 線條的寬度。\n",
    "- 形狀。\n",
    "- 顏色。\n",
    "- 線條的樣式。"
   ]
  },
  {
   "cell_type": "markdown",
   "metadata": {
    "slideshow": {
     "slide_type": "subslide"
    }
   },
   "source": [
    "## 不同型態的資料值\n",
    "\n",
    "- 數值：連續、浮點數。\n",
    "- 數值：離散、整數、具有固定間隔的浮點數。\n",
    "- 類別：無序或有序的因素、文字。\n",
    "- 日期、時間、日期時間。"
   ]
  },
  {
   "cell_type": "markdown",
   "metadata": {
    "slideshow": {
     "slide_type": "subslide"
    }
   },
   "source": [
    "## 為什麼資料需要視覺化\n",
    "\n",
    "視覺化在探索性資料分析中佔有舉足輕重的地位，因為對人來說原始資料是相當抽象的。"
   ]
  },
  {
   "cell_type": "markdown",
   "metadata": {
    "slideshow": {
     "slide_type": "subslide"
    }
   },
   "source": [
    "## 抽象的原始資料\n",
    "\n",
    "例如在「資料科學模組 NumPy 入門」章節我們透過 `np.random` 建立的隨機 `ndarray`"
   ]
  },
  {
   "cell_type": "code",
   "execution_count": 2,
   "metadata": {},
   "outputs": [
    {
     "name": "stdout",
     "output_type": "stream",
     "text": [
      "[0.4618574  0.15981848 0.65283444 ... 0.80196969 0.61300434 0.25206932]\n",
      "[ 0.01545379 -0.15639902 -0.53487083 ... -1.45836505  0.05054807\n",
      "  1.16489839]\n",
      "[1 2 6 ... 3 4 4]\n"
     ]
    }
   ],
   "source": [
    "m = 10000\n",
    "uniform_ndarray = np.random.random(m)\n",
    "normal_ndarray = np.random.normal(0, 1, m)\n",
    "randint_ndarray = np.random.randint(1, 7, size=m)\n",
    "print(uniform_ndarray)\n",
    "print(normal_ndarray)\n",
    "print(randint_ndarray)"
   ]
  },
  {
   "cell_type": "markdown",
   "metadata": {
    "slideshow": {
     "slide_type": "subslide"
    }
   },
   "source": [
    "## 將原始資料視覺化"
   ]
  },
  {
   "cell_type": "code",
   "execution_count": 3,
   "metadata": {
    "slideshow": {
     "slide_type": "skip"
    }
   },
   "outputs": [],
   "source": [
    "def show_uniform_ndarray(arr):\n",
    "    fig = plt.figure()\n",
    "    ax = plt.axes()\n",
    "    ax.hist(arr, bins=50)\n",
    "    plt.show()"
   ]
  },
  {
   "cell_type": "code",
   "execution_count": 4,
   "metadata": {},
   "outputs": [
    {
     "data": {
      "image/png": "[encoded data removed]",
      "text/plain": [
       "<Figure size 432x288 with 1 Axes>"
      ]
     },
     "metadata": {
      "needs_background": "light"
     },
     "output_type": "display_data"
    }
   ],
   "source": [
    "show_uniform_ndarray(uniform_ndarray)"
   ]
  },
  {
   "cell_type": "markdown",
   "metadata": {
    "slideshow": {
     "slide_type": "subslide"
    }
   },
   "source": [
    "## 將原始資料視覺化（續）"
   ]
  },
  {
   "cell_type": "code",
   "execution_count": 5,
   "metadata": {
    "slideshow": {
     "slide_type": "skip"
    }
   },
   "outputs": [],
   "source": [
    "def show_normal_ndarray(arr):\n",
    "    fig = plt.figure()\n",
    "    ax = plt.axes()\n",
    "    ax.hist(arr, bins=50)\n",
    "    plt.show()"
   ]
  },
  {
   "cell_type": "code",
   "execution_count": 6,
   "metadata": {},
   "outputs": [
    {
     "data": {
      "image/png": "[encoded data removed]",
      "text/plain": [
       "<Figure size 432x288 with 1 Axes>"
      ]
     },
     "metadata": {
      "needs_background": "light"
     },
     "output_type": "display_data"
    }
   ],
   "source": [
    "show_normal_ndarray(normal_ndarray)"
   ]
  },
  {
   "cell_type": "markdown",
   "metadata": {
    "slideshow": {
     "slide_type": "subslide"
    }
   },
   "source": [
    "## 將原始資料視覺化（續）"
   ]
  },
  {
   "cell_type": "code",
   "execution_count": 7,
   "metadata": {
    "slideshow": {
     "slide_type": "skip"
    }
   },
   "outputs": [],
   "source": [
    "def show_randint_ndarray(arr):\n",
    "    fig = plt.figure()\n",
    "    ax = plt.axes()\n",
    "    uniques, counts = np.unique(arr, return_counts=True)\n",
    "    ax.bar(uniques, counts)\n",
    "    plt.show()"
   ]
  },
  {
   "cell_type": "code",
   "execution_count": 8,
   "metadata": {},
   "outputs": [
    {
     "data": {
      "image/png": "[encoded data removed]",
      "text/plain": [
       "<Figure size 432x288 with 1 Axes>"
      ]
     },
     "metadata": {
      "needs_background": "light"
     },
     "output_type": "display_data"
    }
   ],
   "source": [
    "show_randint_ndarray(randint_ndarray)"
   ]
  },
  {
   "cell_type": "markdown",
   "metadata": {
    "slideshow": {
     "slide_type": "subslide"
    }
   },
   "source": [
    "## 抽象的數學式\n",
    "\n",
    "\\begin{equation}\n",
    "S(x) = \\frac{1}{1 + e^{-x}}\n",
    "\\end{equation}"
   ]
  },
  {
   "cell_type": "code",
   "execution_count": 9,
   "metadata": {
    "slideshow": {
     "slide_type": "skip"
    }
   },
   "outputs": [],
   "source": [
    "def sigmoid(x):\n",
    "    return 1 / (1 + np.exp(-x))\n",
    "\n",
    "def plot_sigmoid(x_arr, y_arr):\n",
    "    fig = plt.figure()\n",
    "    ax = plt.axes()\n",
    "    ax.plot(x_arr, y_arr)\n",
    "    ax.set_xticks([])\n",
    "    ax.set_yticks([0, 0.5, 1])\n",
    "    ax.set_yticklabels(['0', '0.5', '1'])\n",
    "    ax.spines['left'].set_position('center')\n",
    "    ax.spines['right'].set_color('none')\n",
    "    ax.spines['top'].set_color('none')\n",
    "    ax.set_title('$S(x) = 1/(1+e^{-x})$')\n",
    "    plt.show()\n",
    "\n",
    "x = np.linspace(-10, 10)\n",
    "S = sigmoid(x)"
   ]
  },
  {
   "cell_type": "code",
   "execution_count": 10,
   "metadata": {
    "slideshow": {
     "slide_type": "-"
    }
   },
   "outputs": [
    {
     "data": {
      "image/png": "[encoded data removed]",
      "text/plain": [
       "<Figure size 432x288 with 1 Axes>"
      ]
     },
     "metadata": {
      "needs_background": "light"
     },
     "output_type": "display_data"
    }
   ],
   "source": [
    "plot_sigmoid(x, S)"
   ]
  },
  {
   "cell_type": "markdown",
   "metadata": {
    "slideshow": {
     "slide_type": "subslide"
    }
   },
   "source": [
    "## 資料科學家利用線圖描述損失函數（Loss functions）"
   ]
  },
  {
   "cell_type": "code",
   "execution_count": 11,
   "metadata": {
    "slideshow": {
     "slide_type": "skip"
    }
   },
   "outputs": [],
   "source": [
    "def plot_cross_entropy(x_arr):\n",
    "    y0 = -np.log(1-x_arr)\n",
    "    y1 = -np.log(x_arr)\n",
    "    fig = plt.figure()\n",
    "    ax = plt.axes()\n",
    "    ax.plot(x_arr, y0, label=\"$-log(1 - h_{\\\\theta}(X))$ if y = 0\")\n",
    "    ax.plot(x_arr, y1, label=\"$-log(h_{\\\\theta}(X))$ if y = 1\")\n",
    "    ax.legend()\n",
    "    ax.set_title(\"Cross Entropy\")\n",
    "    ax.set_xlabel(\"$h_{\\\\theta}(X)$\")\n",
    "    ax.set_ylabel(\"Cost\")\n",
    "    plt.show()\n",
    "    \n",
    "x = np.linspace(0.0001, 0.9999, 1000)"
   ]
  },
  {
   "cell_type": "code",
   "execution_count": 12,
   "metadata": {
    "slideshow": {
     "slide_type": "-"
    }
   },
   "outputs": [
    {
     "data": {
      "image/png": "[encoded data removed]",
      "text/plain": [
       "<Figure size 432x288 with 1 Axes>"
      ]
     },
     "metadata": {
      "needs_background": "light"
     },
     "output_type": "display_data"
    }
   ],
   "source": [
    "plot_cross_entropy(x)"
   ]
  },
  {
   "cell_type": "markdown",
   "metadata": {
    "slideshow": {
     "slide_type": "subslide"
    }
   },
   "source": [
    "## 資料科學家利用表面圖描述梯度（Gradients）\n",
    "\n",
    "![Imgur](https://i.imgur.com/qMsNwXx.png)\n",
    "\n",
    "來源：[Coursera | Machine Learning](https://www.coursera.org/learn/machine-learning)"
   ]
  },
  {
   "cell_type": "markdown",
   "metadata": {
    "slideshow": {
     "slide_type": "subslide"
    }
   },
   "source": [
    "## 資料科學家也利用等高線圖描述梯度\n",
    "\n",
    "![Imgur](https://i.imgur.com/qmeRAdf.png)\n",
    "\n",
    "來源：[Coursera | Machine Learning](https://www.coursera.org/learn/machine-learning)"
   ]
  },
  {
   "cell_type": "markdown",
   "metadata": {
    "slideshow": {
     "slide_type": "subslide"
    }
   },
   "source": [
    "## 或者利用填滿等高線圖描述決策邊界（Decision boundary）\n",
    "\n",
    "來源：<https://scikit-learn.org/stable/auto_examples/ensemble/plot_voting_decision_regions.html#sphx-glr-auto-examples-ensemble-plot-voting-decision-regions-py>"
   ]
  },
  {
   "cell_type": "code",
   "execution_count": 13,
   "metadata": {
    "slideshow": {
     "slide_type": "skip"
    }
   },
   "outputs": [],
   "source": [
    "from itertools import product\n",
    "from sklearn import datasets\n",
    "from sklearn.tree import DecisionTreeClassifier\n",
    "from sklearn.neighbors import KNeighborsClassifier\n",
    "from sklearn.svm import SVC\n",
    "from sklearn.ensemble import VotingClassifier\n",
    "\n",
    "def plot_multiple_decision_boundary():\n",
    "    # Loading some example data\n",
    "    iris = datasets.load_iris()\n",
    "    X = iris.data[:, [0, 2]]\n",
    "    y = iris.target\n",
    "\n",
    "    # Training classifiers\n",
    "    clf1 = DecisionTreeClassifier(max_depth=4)\n",
    "    clf2 = KNeighborsClassifier(n_neighbors=7)\n",
    "    clf3 = SVC(gamma=.1, kernel='rbf', probability=True)\n",
    "    eclf = VotingClassifier(estimators=[('dt', clf1), ('knn', clf2),\n",
    "                                        ('svc', clf3)],\n",
    "                            voting='soft', weights=[2, 1, 2])\n",
    "\n",
    "    clf1.fit(X, y)\n",
    "    clf2.fit(X, y)\n",
    "    clf3.fit(X, y)\n",
    "    eclf.fit(X, y)\n",
    "\n",
    "    # Plotting decision regions\n",
    "    x_min, x_max = X[:, 0].min() - 1, X[:, 0].max() + 1\n",
    "    y_min, y_max = X[:, 1].min() - 1, X[:, 1].max() + 1\n",
    "    xx, yy = np.meshgrid(np.arange(x_min, x_max, 0.1),\n",
    "                         np.arange(y_min, y_max, 0.1))\n",
    "\n",
    "    f, axarr = plt.subplots(2, 2, sharex='col', sharey='row', figsize=(10, 8))\n",
    "\n",
    "    for idx, clf, tt in zip(product([0, 1], [0, 1]),\n",
    "                            [clf1, clf2, clf3, eclf],\n",
    "                            ['Decision Tree (depth=4)', 'KNN (k=7)',\n",
    "                             'Kernel SVM', 'Soft Voting']):\n",
    "\n",
    "        Z = clf.predict(np.c_[xx.ravel(), yy.ravel()])\n",
    "        Z = Z.reshape(xx.shape)\n",
    "\n",
    "        axarr[idx[0], idx[1]].contourf(xx, yy, Z, alpha=0.4)\n",
    "        axarr[idx[0], idx[1]].scatter(X[:, 0], X[:, 1], c=y,\n",
    "                                      s=20, edgecolor='k')\n",
    "        axarr[idx[0], idx[1]].set_title(tt)\n",
    "\n",
    "    plt.show()"
   ]
  },
  {
   "cell_type": "code",
   "execution_count": 14,
   "metadata": {},
   "outputs": [
    {
     "data": {
      "image/png": "[encoded data removed]",
      "text/plain": [
       "<Figure size 720x576 with 4 Axes>"
      ]
     },
     "metadata": {
      "needs_background": "light"
     },
     "output_type": "display_data"
    }
   ],
   "source": [
    "plot_multiple_decision_boundary()"
   ]
  },
  {
   "cell_type": "markdown",
   "metadata": {
    "slideshow": {
     "slide_type": "subslide"
    }
   },
   "source": [
    "## 好的視覺化特性\n",
    "\n",
    "- 具有資訊價值。\n",
    "- 能夠自我解釋。\n",
    "- 可以重製。\n",
    "- 經典視覺化：\n",
    "    - [Charles Minard's map of Napoleon's disastrous Russian campaign of 1812](https://en.wikipedia.org/wiki/Charles_Joseph_Minard#/media/File:Minard.png)\n",
    "    - [Hans Rosling's 200 Countries, 200 Years, 4 Minutes](https://youtu.be/jbkSRLYSojo)"
   ]
  },
  {
   "cell_type": "markdown",
   "metadata": {
    "slideshow": {
     "slide_type": "subslide"
    }
   },
   "source": [
    "## 現代資料科學：以程式設計做資料科學的應用\n",
    "\n",
    "![](r-for-data-science.png)\n",
    "\n",
    "來源：[R for Data Science](https://r4ds.had.co.nz)"
   ]
  },
  {
   "cell_type": "markdown",
   "metadata": {
    "slideshow": {
     "slide_type": "subslide"
    }
   },
   "source": [
    "## 什麼是資料科學的應用場景\n",
    "\n",
    "- Import 資料的載入。\n",
    "- Tidy 資料清理。\n",
    "- Transform 資料外型與類別的轉換。\n",
    "- Visualise 探索性分析。\n",
    "- Model 分析與預測模型。\n",
    "- Communicate 溝通分享。"
   ]
  },
  {
   "cell_type": "markdown",
   "metadata": {
    "slideshow": {
     "slide_type": "subslide"
    }
   },
   "source": [
    "## 如何選擇資料視覺化的工具\n",
    "\n",
    "- 能夠 \"Wrangle\" 資料。\n",
    "- 能夠將資料值映射為 \"Aesthetics\"\n",
    "- 能夠作為溝通的媒介。"
   ]
  },
  {
   "cell_type": "markdown",
   "metadata": {
    "slideshow": {
     "slide_type": "subslide"
    }
   },
   "source": [
    "## 瞭解資料科學從業者的偏好\n",
    "\n",
    "- [2021 Kaggle ML & DS Survey](https://www.kaggle.com/c/kaggle-survey-2021)\n",
    "- [Stack Overflow Trends](https://insights.stackoverflow.com/trends)"
   ]
  },
  {
   "cell_type": "markdown",
   "metadata": {
    "slideshow": {
     "slide_type": "subslide"
    }
   },
   "source": [
    "## 根據 [2021 Kaggle ML & DS Survey](https://www.kaggle.com/c/kaggle-survey-2021) 中的幾個問題\n",
    "\n",
    "- What programming languages do you use on a regular basis? (Select all that apply)\n",
    "- What programming language would you recommend an aspiring data scientist to learn first?\n",
    "- What data visualization libraries or tools do you use on a regular basis? (Select all that apply)\n",
    "- Which of the following business intelligence tools do you use most often?"
   ]
  },
  {
   "cell_type": "code",
   "execution_count": 15,
   "metadata": {
    "slideshow": {
     "slide_type": "skip"
    }
   },
   "outputs": [
    {
     "data": {
      "text/html": [
       "<div>\n",
       "<style scoped>\n",
       "    .dataframe tbody tr th:only-of-type {\n",
       "        vertical-align: middle;\n",
       "    }\n",
       "\n",
       "    .dataframe tbody tr th {\n",
       "        vertical-align: top;\n",
       "    }\n",
       "\n",
       "    .dataframe thead th {\n",
       "        text-align: right;\n",
       "    }\n",
       "</style>\n",
       "<table border=\"1\" class=\"dataframe\">\n",
       "  <thead>\n",
       "    <tr style=\"text-align: right;\">\n",
       "      <th></th>\n",
       "      <th>question_index</th>\n",
       "      <th>question_description</th>\n",
       "      <th>question_type</th>\n",
       "    </tr>\n",
       "  </thead>\n",
       "  <tbody>\n",
       "    <tr>\n",
       "      <th>0</th>\n",
       "      <td>Q1</td>\n",
       "      <td>What is your age (# years)?</td>\n",
       "      <td>multiple choice</td>\n",
       "    </tr>\n",
       "    <tr>\n",
       "      <th>1</th>\n",
       "      <td>Q2</td>\n",
       "      <td>What is your gender?</td>\n",
       "      <td>multiple choice</td>\n",
       "    </tr>\n",
       "    <tr>\n",
       "      <th>2</th>\n",
       "      <td>Q3</td>\n",
       "      <td>In which country do you currently reside?</td>\n",
       "      <td>multiple choice</td>\n",
       "    </tr>\n",
       "    <tr>\n",
       "      <th>3</th>\n",
       "      <td>Q4</td>\n",
       "      <td>What is the highest level of formal education ...</td>\n",
       "      <td>multiple choice</td>\n",
       "    </tr>\n",
       "    <tr>\n",
       "      <th>4</th>\n",
       "      <td>Q5</td>\n",
       "      <td>Select the title most similar to your current ...</td>\n",
       "      <td>multiple choice</td>\n",
       "    </tr>\n",
       "    <tr>\n",
       "      <th>5</th>\n",
       "      <td>Q6</td>\n",
       "      <td>For how many years have you been writing code ...</td>\n",
       "      <td>multiple choice</td>\n",
       "    </tr>\n",
       "    <tr>\n",
       "      <th>6</th>\n",
       "      <td>Q7</td>\n",
       "      <td>What programming languages do you use on a reg...</td>\n",
       "      <td>multiple selection</td>\n",
       "    </tr>\n",
       "    <tr>\n",
       "      <th>7</th>\n",
       "      <td>Q8</td>\n",
       "      <td>What programming language would you recommend ...</td>\n",
       "      <td>multiple choice</td>\n",
       "    </tr>\n",
       "    <tr>\n",
       "      <th>8</th>\n",
       "      <td>Q9</td>\n",
       "      <td>Which of the following integrated development ...</td>\n",
       "      <td>multiple selection</td>\n",
       "    </tr>\n",
       "    <tr>\n",
       "      <th>9</th>\n",
       "      <td>Q10</td>\n",
       "      <td>Which of the following hosted notebook product...</td>\n",
       "      <td>multiple selection</td>\n",
       "    </tr>\n",
       "    <tr>\n",
       "      <th>10</th>\n",
       "      <td>Q11</td>\n",
       "      <td>What type of computing platform do you use mos...</td>\n",
       "      <td>multiple choice</td>\n",
       "    </tr>\n",
       "    <tr>\n",
       "      <th>11</th>\n",
       "      <td>Q12</td>\n",
       "      <td>Which types of specialized hardware do you use...</td>\n",
       "      <td>multiple selection</td>\n",
       "    </tr>\n",
       "    <tr>\n",
       "      <th>12</th>\n",
       "      <td>Q13</td>\n",
       "      <td>Approximately how many times have you used a T...</td>\n",
       "      <td>multiple choice</td>\n",
       "    </tr>\n",
       "    <tr>\n",
       "      <th>13</th>\n",
       "      <td>Q14</td>\n",
       "      <td>What data visualization libraries or tools do ...</td>\n",
       "      <td>multiple selection</td>\n",
       "    </tr>\n",
       "    <tr>\n",
       "      <th>14</th>\n",
       "      <td>Q15</td>\n",
       "      <td>For how many years have you used machine learn...</td>\n",
       "      <td>multiple choice</td>\n",
       "    </tr>\n",
       "    <tr>\n",
       "      <th>15</th>\n",
       "      <td>Q16</td>\n",
       "      <td>Which of the following machine learning framew...</td>\n",
       "      <td>multiple selection</td>\n",
       "    </tr>\n",
       "    <tr>\n",
       "      <th>16</th>\n",
       "      <td>Q17</td>\n",
       "      <td>Which of the following ML algorithms do you us...</td>\n",
       "      <td>multiple selection</td>\n",
       "    </tr>\n",
       "    <tr>\n",
       "      <th>17</th>\n",
       "      <td>Q18</td>\n",
       "      <td>Which categories of computer vision methods do...</td>\n",
       "      <td>multiple selection</td>\n",
       "    </tr>\n",
       "    <tr>\n",
       "      <th>18</th>\n",
       "      <td>Q19</td>\n",
       "      <td>Which of the following natural language proces...</td>\n",
       "      <td>multiple selection</td>\n",
       "    </tr>\n",
       "    <tr>\n",
       "      <th>19</th>\n",
       "      <td>Q20</td>\n",
       "      <td>In what industry is your current employer/cont...</td>\n",
       "      <td>multiple choice</td>\n",
       "    </tr>\n",
       "    <tr>\n",
       "      <th>20</th>\n",
       "      <td>Q21</td>\n",
       "      <td>What is the size of the company where you are ...</td>\n",
       "      <td>multiple choice</td>\n",
       "    </tr>\n",
       "    <tr>\n",
       "      <th>21</th>\n",
       "      <td>Q22</td>\n",
       "      <td>Approximately how many individuals are respons...</td>\n",
       "      <td>multiple choice</td>\n",
       "    </tr>\n",
       "    <tr>\n",
       "      <th>22</th>\n",
       "      <td>Q23</td>\n",
       "      <td>Does your current employer incorporate machine...</td>\n",
       "      <td>multiple choice</td>\n",
       "    </tr>\n",
       "    <tr>\n",
       "      <th>23</th>\n",
       "      <td>Q24</td>\n",
       "      <td>Select any activities that make up an importan...</td>\n",
       "      <td>multiple selection</td>\n",
       "    </tr>\n",
       "    <tr>\n",
       "      <th>24</th>\n",
       "      <td>Q25</td>\n",
       "      <td>What is your current yearly compensation (appr...</td>\n",
       "      <td>multiple choice</td>\n",
       "    </tr>\n",
       "    <tr>\n",
       "      <th>25</th>\n",
       "      <td>Q26</td>\n",
       "      <td>Approximately how much money have you (or your...</td>\n",
       "      <td>multiple choice</td>\n",
       "    </tr>\n",
       "    <tr>\n",
       "      <th>26</th>\n",
       "      <td>Q27A</td>\n",
       "      <td>Which of the following cloud computing platfor...</td>\n",
       "      <td>multiple selection</td>\n",
       "    </tr>\n",
       "    <tr>\n",
       "      <th>27</th>\n",
       "      <td>Q28</td>\n",
       "      <td>Of the cloud platforms that you are familiar w...</td>\n",
       "      <td>multiple choice</td>\n",
       "    </tr>\n",
       "    <tr>\n",
       "      <th>28</th>\n",
       "      <td>Q29A</td>\n",
       "      <td>Do you use any of the following cloud computin...</td>\n",
       "      <td>multiple selection</td>\n",
       "    </tr>\n",
       "    <tr>\n",
       "      <th>29</th>\n",
       "      <td>Q30A</td>\n",
       "      <td>Do you use any of the following data storage p...</td>\n",
       "      <td>multiple selection</td>\n",
       "    </tr>\n",
       "    <tr>\n",
       "      <th>30</th>\n",
       "      <td>Q31A</td>\n",
       "      <td>Do you use any of the following managed machin...</td>\n",
       "      <td>multiple selection</td>\n",
       "    </tr>\n",
       "    <tr>\n",
       "      <th>31</th>\n",
       "      <td>Q32A</td>\n",
       "      <td>Which of the following big data products (rela...</td>\n",
       "      <td>multiple selection</td>\n",
       "    </tr>\n",
       "    <tr>\n",
       "      <th>32</th>\n",
       "      <td>Q33</td>\n",
       "      <td>Which of the following big data products (rela...</td>\n",
       "      <td>multiple choice</td>\n",
       "    </tr>\n",
       "    <tr>\n",
       "      <th>33</th>\n",
       "      <td>Q34A</td>\n",
       "      <td>Which of the following business intelligence t...</td>\n",
       "      <td>multiple selection</td>\n",
       "    </tr>\n",
       "    <tr>\n",
       "      <th>34</th>\n",
       "      <td>Q35</td>\n",
       "      <td>Which of the following business intelligence t...</td>\n",
       "      <td>multiple choice</td>\n",
       "    </tr>\n",
       "    <tr>\n",
       "      <th>35</th>\n",
       "      <td>Q36A</td>\n",
       "      <td>Do you use any automated machine learning tool...</td>\n",
       "      <td>multiple selection</td>\n",
       "    </tr>\n",
       "    <tr>\n",
       "      <th>36</th>\n",
       "      <td>Q37A</td>\n",
       "      <td>Which of the following automated machine learn...</td>\n",
       "      <td>multiple selection</td>\n",
       "    </tr>\n",
       "    <tr>\n",
       "      <th>37</th>\n",
       "      <td>Q38A</td>\n",
       "      <td>Do you use any tools to help manage machine le...</td>\n",
       "      <td>multiple selection</td>\n",
       "    </tr>\n",
       "    <tr>\n",
       "      <th>38</th>\n",
       "      <td>Q39</td>\n",
       "      <td>Where do you publicly share your data analysis...</td>\n",
       "      <td>multiple selection</td>\n",
       "    </tr>\n",
       "    <tr>\n",
       "      <th>39</th>\n",
       "      <td>Q40</td>\n",
       "      <td>On which platforms have you begun or completed...</td>\n",
       "      <td>multiple selection</td>\n",
       "    </tr>\n",
       "    <tr>\n",
       "      <th>40</th>\n",
       "      <td>Q41</td>\n",
       "      <td>What is the primary tool that you use at work ...</td>\n",
       "      <td>multiple choice</td>\n",
       "    </tr>\n",
       "    <tr>\n",
       "      <th>41</th>\n",
       "      <td>Q42</td>\n",
       "      <td>Who/what are your favorite media sources that ...</td>\n",
       "      <td>multiple selection</td>\n",
       "    </tr>\n",
       "    <tr>\n",
       "      <th>42</th>\n",
       "      <td>Q27B</td>\n",
       "      <td>Which of the following cloud computing platfor...</td>\n",
       "      <td>multiple selection</td>\n",
       "    </tr>\n",
       "    <tr>\n",
       "      <th>43</th>\n",
       "      <td>Q29B</td>\n",
       "      <td>In the next 2 years, do you hope to become mor...</td>\n",
       "      <td>multiple selection</td>\n",
       "    </tr>\n",
       "    <tr>\n",
       "      <th>44</th>\n",
       "      <td>Q30B</td>\n",
       "      <td>In the next 2 years, do you hope to become mor...</td>\n",
       "      <td>multiple selection</td>\n",
       "    </tr>\n",
       "    <tr>\n",
       "      <th>45</th>\n",
       "      <td>Q31B</td>\n",
       "      <td>In the next 2 years, do you hope to become mor...</td>\n",
       "      <td>multiple selection</td>\n",
       "    </tr>\n",
       "    <tr>\n",
       "      <th>46</th>\n",
       "      <td>Q32B</td>\n",
       "      <td>Which of the following big data products (rela...</td>\n",
       "      <td>multiple selection</td>\n",
       "    </tr>\n",
       "    <tr>\n",
       "      <th>47</th>\n",
       "      <td>Q34B</td>\n",
       "      <td>Which of the following business intelligence t...</td>\n",
       "      <td>multiple selection</td>\n",
       "    </tr>\n",
       "    <tr>\n",
       "      <th>48</th>\n",
       "      <td>Q36B</td>\n",
       "      <td>Which categories of automated machine learning...</td>\n",
       "      <td>multiple selection</td>\n",
       "    </tr>\n",
       "    <tr>\n",
       "      <th>49</th>\n",
       "      <td>Q37B</td>\n",
       "      <td>Which specific automated machine learning tool...</td>\n",
       "      <td>multiple selection</td>\n",
       "    </tr>\n",
       "    <tr>\n",
       "      <th>50</th>\n",
       "      <td>Q38B</td>\n",
       "      <td>In the next 2 years, do you hope to become mor...</td>\n",
       "      <td>multiple selection</td>\n",
       "    </tr>\n",
       "  </tbody>\n",
       "</table>\n",
       "</div>"
      ],
      "text/plain": [
       "   question_index                               question_description  \\\n",
       "0              Q1                        What is your age (# years)?   \n",
       "1              Q2                               What is your gender?   \n",
       "2              Q3          In which country do you currently reside?   \n",
       "3              Q4  What is the highest level of formal education ...   \n",
       "4              Q5  Select the title most similar to your current ...   \n",
       "5              Q6  For how many years have you been writing code ...   \n",
       "6              Q7  What programming languages do you use on a reg...   \n",
       "7              Q8  What programming language would you recommend ...   \n",
       "8              Q9  Which of the following integrated development ...   \n",
       "9             Q10  Which of the following hosted notebook product...   \n",
       "10            Q11  What type of computing platform do you use mos...   \n",
       "11            Q12  Which types of specialized hardware do you use...   \n",
       "12            Q13  Approximately how many times have you used a T...   \n",
       "13            Q14  What data visualization libraries or tools do ...   \n",
       "14            Q15  For how many years have you used machine learn...   \n",
       "15            Q16  Which of the following machine learning framew...   \n",
       "16            Q17  Which of the following ML algorithms do you us...   \n",
       "17            Q18  Which categories of computer vision methods do...   \n",
       "18            Q19  Which of the following natural language proces...   \n",
       "19            Q20  In what industry is your current employer/cont...   \n",
       "20            Q21  What is the size of the company where you are ...   \n",
       "21            Q22  Approximately how many individuals are respons...   \n",
       "22            Q23  Does your current employer incorporate machine...   \n",
       "23            Q24  Select any activities that make up an importan...   \n",
       "24            Q25  What is your current yearly compensation (appr...   \n",
       "25            Q26  Approximately how much money have you (or your...   \n",
       "26           Q27A  Which of the following cloud computing platfor...   \n",
       "27            Q28  Of the cloud platforms that you are familiar w...   \n",
       "28           Q29A  Do you use any of the following cloud computin...   \n",
       "29           Q30A  Do you use any of the following data storage p...   \n",
       "30           Q31A  Do you use any of the following managed machin...   \n",
       "31           Q32A  Which of the following big data products (rela...   \n",
       "32            Q33  Which of the following big data products (rela...   \n",
       "33           Q34A  Which of the following business intelligence t...   \n",
       "34            Q35  Which of the following business intelligence t...   \n",
       "35           Q36A  Do you use any automated machine learning tool...   \n",
       "36           Q37A  Which of the following automated machine learn...   \n",
       "37           Q38A  Do you use any tools to help manage machine le...   \n",
       "38            Q39  Where do you publicly share your data analysis...   \n",
       "39            Q40  On which platforms have you begun or completed...   \n",
       "40            Q41  What is the primary tool that you use at work ...   \n",
       "41            Q42  Who/what are your favorite media sources that ...   \n",
       "42           Q27B  Which of the following cloud computing platfor...   \n",
       "43           Q29B  In the next 2 years, do you hope to become mor...   \n",
       "44           Q30B  In the next 2 years, do you hope to become mor...   \n",
       "45           Q31B  In the next 2 years, do you hope to become mor...   \n",
       "46           Q32B  Which of the following big data products (rela...   \n",
       "47           Q34B  Which of the following business intelligence t...   \n",
       "48           Q36B  Which categories of automated machine learning...   \n",
       "49           Q37B  Which specific automated machine learning tool...   \n",
       "50           Q38B  In the next 2 years, do you hope to become mor...   \n",
       "\n",
       "         question_type  \n",
       "0      multiple choice  \n",
       "1      multiple choice  \n",
       "2      multiple choice  \n",
       "3      multiple choice  \n",
       "4      multiple choice  \n",
       "5      multiple choice  \n",
       "6   multiple selection  \n",
       "7      multiple choice  \n",
       "8   multiple selection  \n",
       "9   multiple selection  \n",
       "10     multiple choice  \n",
       "11  multiple selection  \n",
       "12     multiple choice  \n",
       "13  multiple selection  \n",
       "14     multiple choice  \n",
       "15  multiple selection  \n",
       "16  multiple selection  \n",
       "17  multiple selection  \n",
       "18  multiple selection  \n",
       "19     multiple choice  \n",
       "20     multiple choice  \n",
       "21     multiple choice  \n",
       "22     multiple choice  \n",
       "23  multiple selection  \n",
       "24     multiple choice  \n",
       "25     multiple choice  \n",
       "26  multiple selection  \n",
       "27     multiple choice  \n",
       "28  multiple selection  \n",
       "29  multiple selection  \n",
       "30  multiple selection  \n",
       "31  multiple selection  \n",
       "32     multiple choice  \n",
       "33  multiple selection  \n",
       "34     multiple choice  \n",
       "35  multiple selection  \n",
       "36  multiple selection  \n",
       "37  multiple selection  \n",
       "38  multiple selection  \n",
       "39  multiple selection  \n",
       "40     multiple choice  \n",
       "41  multiple selection  \n",
       "42  multiple selection  \n",
       "43  multiple selection  \n",
       "44  multiple selection  \n",
       "45  multiple selection  \n",
       "46  multiple selection  \n",
       "47  multiple selection  \n",
       "48  multiple selection  \n",
       "49  multiple selection  \n",
       "50  multiple selection  "
      ]
     },
     "execution_count": 15,
     "metadata": {},
     "output_type": "execute_result"
    }
   ],
   "source": [
    "import ks2021\n",
    "\n",
    "csv_file = \"https://kaggle-ml-ds-survey.s3.ap-northeast-1.amazonaws.com/kaggle-survey-2021/kaggle_survey_2021_responses.csv\"\n",
    "ks = ks2021.KaggleSurvey2021(csv_file)\n",
    "ks.generate_question_table()"
   ]
  },
  {
   "cell_type": "code",
   "execution_count": 16,
   "metadata": {
    "slideshow": {
     "slide_type": "subslide"
    }
   },
   "outputs": [
    {
     "data": {
      "image/png": "[encoded data removed]",
      "text/plain": [
       "<Figure size 432x288 with 1 Axes>"
      ]
     },
     "metadata": {
      "needs_background": "light"
     },
     "output_type": "display_data"
    }
   ],
   "source": [
    "ks.plot_survey_summary(question_index=\"Q7\", n=4)"
   ]
  },
  {
   "cell_type": "code",
   "execution_count": 17,
   "metadata": {
    "slideshow": {
     "slide_type": "subslide"
    }
   },
   "outputs": [
    {
     "data": {
      "image/png": "[encoded data removed]",
      "text/plain": [
       "<Figure size 432x288 with 1 Axes>"
      ]
     },
     "metadata": {
      "needs_background": "light"
     },
     "output_type": "display_data"
    }
   ],
   "source": [
    "ks.plot_survey_summary(question_index=\"Q8\", n=3)"
   ]
  },
  {
   "cell_type": "code",
   "execution_count": 18,
   "metadata": {
    "slideshow": {
     "slide_type": "subslide"
    }
   },
   "outputs": [
    {
     "data": {
      "image/png": "[encoded data removed]",
      "text/plain": [
       "<Figure size 432x288 with 1 Axes>"
      ]
     },
     "metadata": {
      "needs_background": "light"
     },
     "output_type": "display_data"
    }
   ],
   "source": [
    "ks.plot_survey_summary(question_index=\"Q14\", n=6)"
   ]
  },
  {
   "cell_type": "code",
   "execution_count": 19,
   "metadata": {
    "slideshow": {
     "slide_type": "subslide"
    }
   },
   "outputs": [
    {
     "data": {
      "image/png": "[encoded data removed]",
      "text/plain": [
       "<Figure size 432x288 with 1 Axes>"
      ]
     },
     "metadata": {
      "needs_background": "light"
     },
     "output_type": "display_data"
    }
   ],
   "source": [
    "ks.plot_survey_summary(question_index=\"Q35\", n=3)"
   ]
  },
  {
   "cell_type": "markdown",
   "metadata": {
    "slideshow": {
     "slide_type": "subslide"
    }
   },
   "source": [
    "## 根據 [Stack Overflow Trends](https://insights.stackoverflow.com/trends) 的幾個趨勢\n",
    "\n",
    "- [程式語言](https://insights.stackoverflow.com/trends?tags=r%2Cpython%2Csql%2Cmatlab%2Cjulia)\n",
    "- [視覺化模組](https://insights.stackoverflow.com/trends?tags=matplotlib%2Cseaborn%2Cplotly%2Cshiny%2Cggplot2%2Cplotly-dash)"
   ]
  },
  {
   "cell_type": "markdown",
   "metadata": {
    "slideshow": {
     "slide_type": "subslide"
    }
   },
   "source": [
    "## 資料視覺化的工具選擇依據\n",
    "\n",
    "- 使用人數的多寡。\n",
    "- 使用彈性。\n",
    "- 互動性。\n",
    "- 可重製性。"
   ]
  },
  {
   "cell_type": "markdown",
   "metadata": {
    "slideshow": {
     "slide_type": "subslide"
    }
   },
   "source": [
    "## 資料視覺化 123\n",
    "\n",
    "1. 取得資料。\n",
    "2. 清理轉換資料為合適的格式、外型。\n",
    "3. 將資料映射為 \"Aesthetics\""
   ]
  },
  {
   "cell_type": "markdown",
   "metadata": {
    "slideshow": {
     "slide_type": "subslide"
    }
   },
   "source": [
    "> When it comes to making graphs, half the battle occurs before you call any graphing commands.\n",
    ">\n",
    "> [Winston Chang](https://twitter.com/winston_chang?lang=en)"
   ]
  },
  {
   "cell_type": "markdown",
   "metadata": {
    "slideshow": {
     "slide_type": "subslide"
    }
   },
   "source": [
    "## 取得資料\n",
    "\n",
    "- 常見的資料格式：\n",
    "    - 純文字檔案。\n",
    "    - 試算表。\n",
    "    - 關聯式資料庫。\n",
    "- 相關 Python 模組：\n",
    "    - [Requests](https://requests.readthedocs.io/en/latest/)\n",
    "    - [BeautifulSoup4](https://www.crummy.com/software/BeautifulSoup/bs4/doc/)\n",
    "    - [Pandas](https://pandas.pydata.org/)\n",
    "    - [SQLAlchemy](https://www.sqlalchemy.org/)"
   ]
  },
  {
   "cell_type": "markdown",
   "metadata": {
    "slideshow": {
     "slide_type": "subslide"
    }
   },
   "source": [
    "## 清理轉換資料為合適的格式、外型\n",
    "\n",
    "- 手動：MS Excel/Google Sheet\n",
    "- 相關 Python 模組：\n",
    "    - [NumPy](https://numpy.org/)\n",
    "    - [Pandas](https://pandas.pydata.org/)"
   ]
  },
  {
   "cell_type": "markdown",
   "metadata": {
    "slideshow": {
     "slide_type": "subslide"
    }
   },
   "source": [
    "## 將資料映射為 \"Aesthetics\"\n",
    "\n",
    "- 靜態：[Matplotlib](https://matplotlib.org/)、[Seaborn](https://seaborn.pydata.org/)\n",
    "- 地理資訊：[GeoPandas](https://geopandas.org/en/stable/)、[Folium](https://python-visualization.github.io/folium/)\n",
    "- 動態：[Plotly](https://plotly.com/)\n",
    "- 網頁應用程式：[Streamlit](https://streamlit.io/)"
   ]
  }
 ],
 "metadata": {
  "celltoolbar": "Slideshow",
  "kernelspec": {
   "display_name": "Python Fifty Plus",
   "language": "python",
   "name": "pythonfiftyplus"
  },
  "language_info": {
   "codemirror_mode": {
    "name": "ipython",
    "version": 3
   },
   "file_extension": ".py",
   "mimetype": "text/x-python",
   "name": "python",
   "nbconvert_exporter": "python",
   "pygments_lexer": "ipython3",
   "version": "3.9.7"
  }
 },
 "nbformat": 4,
 "nbformat_minor": 2
}
